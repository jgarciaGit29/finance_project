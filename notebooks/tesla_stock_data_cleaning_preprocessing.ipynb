{
 "cells": [
  {
   "cell_type": "code",
   "execution_count": 14,
   "metadata": {},
   "outputs": [
    {
     "name": "stderr",
     "output_type": "stream",
     "text": [
      "/tmp/ipykernel_156480/2656822173.py:15: FutureWarning: In a future version of pandas, parsing datetimes with mixed time zones will raise an error unless `utc=True`. Please specify `utc=True` to opt in to the new behaviour and silence this warning. To create a `Series` with mixed offsets and `object` dtype, please use `apply` and `datetime.datetime.strptime`\n",
      "  df_tesla_processed['Date'] = pd.to_datetime(df_tesla_processed['Date'])\n"
     ]
    }
   ],
   "source": [
    "\n",
    "import pandas as pd\n",
    "\n",
    "\n",
    "\n",
    "# Define the correct paths relative to the current working directory\n",
    "raw_output_path = r'../data/raw/Tesla_Historical_Data.csv'\n",
    "# Step 1: Load the raw data\n",
    "df_raw = pd.read_csv(raw_output_path)\n",
    "\n",
    "# Step 2: Drop the unncerssary 'Unamed: 0' column\n",
    "df_tesla_processed = df_raw #.drop(columns=['Unamed: 0'])\n",
    "\n",
    "# Step 3: Convert 'Data' column to a datetime to ensure proper date-time\n",
    "df_tesla_processed['Date'] = pd.to_datetime(df_tesla_processed['Date'])\n",
    "\n",
    "# Step 4: Convert Numeric columns to appropriate data types\n",
    "# Ensuring that 'Open', 'High', 'Low', 'Close', 'Volume', 'Dividens', 'Stock Splits' are numeric\n",
    "numeric_cols = ['Open', 'High', 'Low', 'Close', 'Volume', 'Dividends', 'Stock Splits']\n",
    "df_tesla_processed[numeric_cols] = df_tesla_processed[numeric_cols].apply(pd.to_numeric, errors='coerce')\n",
    "\n",
    "# Step 5: Drop any rows with missing values to clean the data\n",
    "df_tesla_clean = df_tesla_processed.dropna()\n",
    "\n",
    "df_tesla_clean.head()\n",
    "\n",
    "# Step 6: Export the clean data to the cleaned directory\n",
    "clean_output_path = r'../data/cleaned/Tesla_Historial_data_clean.csv'\n",
    "\n",
    "# Export the cleaned data\n",
    "df_tesla_clean.to_csv(clean_output_path, index=False)"
   ]
  }
 ],
 "metadata": {
  "kernelspec": {
   "display_name": "finance_project_env",
   "language": "python",
   "name": "python3"
  },
  "language_info": {
   "codemirror_mode": {
    "name": "ipython",
    "version": 3
   },
   "file_extension": ".py",
   "mimetype": "text/x-python",
   "name": "python",
   "nbconvert_exporter": "python",
   "pygments_lexer": "ipython3",
   "version": "3.12.4"
  }
 },
 "nbformat": 4,
 "nbformat_minor": 2
}
